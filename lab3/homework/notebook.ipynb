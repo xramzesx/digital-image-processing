{
  "cells": [
    {
      "cell_type": "markdown",
      "metadata": {
        "collapsed": false,
        "id": "4Fbe36eKPM0s"
      },
      "source": [
        "## Zadanie domowe: BBHE i DSIHE\n",
        "\n",
        "W klasycznym wyrównywaniu histogramu HE  po wykonaniu operacji jasność obrazu ulega zmianie.\n",
        "Dało się to zaobserwować podczas przeprowadzonych eksperymentów.\n",
        "Jeśli nie to należy uruchomić skrypt z sekcji A i zwrócić na to uwagę.\n",
        "Średnia jasność dąży do środkowego poziomu szarości.\n",
        "Jest to wada i dlatego klasyczne HE ma ograniczone zastosowanie.\n",
        "\n",
        "Powstało sporo metod, które eliminują to niekorzystne zjawisko.\n",
        "Najprostsze z nich polegają na dekompozycji obrazu wejściowego na dwa podobrazy (wg. pewnego kryterium).\n",
        "Następnie operacja HE wykonywana jest dla tych podobrazów.\n",
        "\n",
        "Dwie znane z literatury metody to:\n",
        "- Bi-Histogram Equalization\n",
        "- DSIHE - Dualistic Sub-Image Histogram Equalization\n",
        "\n",
        "W metodzie BBHE za kryterium podziału przyjmuje się średnią jasność w obrazie.\n",
        "W DSIHE obraz dzieli się na dwa podobrazy o takiej samej liczbie pikseli (jaśniejszych i ciemniejszych).\n",
        "\n",
        "W ramach zadania należy zaimplementować wybraną metodę: BBHE lub DSIHE (ew. obie).\n",
        "\n",
        "1. Wczytaj obraz *jet.bmp* i wylicz jego histogram.\n",
        "2. W kolejnym kroku należy wyznaczyć próg podziału obrazu na dwa podobrazy (*lm*).\n",
        "3. Dla BBHE wyznacz średnią jasność obrazu. Dla DSIHE można wykorzystać histogram skumulowany.\n",
        "Należy znaleźć poziom jasności który znajduje się \"w połowie\" histogramu skumulowanego.\n",
        "W tym celu warto stworzyć tablicę, zawierającą moduł histogramu skumulowanego pomniejszonego o połowę liczby pikseli.\n",
        "Następnie znaleźć minimum - `np.argmin`.\n",
        "4. Dalej należy podzielić histogram oryginalnego obrazu na dwa histogramy *H1* i *H2*.\n",
        "Dla każdego z nich wyliczyć histogram skumulowany ($C_1$ i $C_2$) i wykonać normalizację.\n",
        "Normalizacja polega na podzieleniu każdego histogramu przez jego największy element.\n",
        "5. Na podstawie histogramów skumulowanych należy stworzyć przekształcenie LUT.\n",
        "Należy tak przeskalować $C_1$ i $C_2$, aby uzyskać jednorodne przekształcenie.\n",
        "Tablicę $C_1$ wystarczy pomnożyć przez próg podziału.\n",
        "Tablicę $C_2$ należy przeskalować do przedziału: $<lm+1; 255>$, gdzie $lm$ jest progiem podziału.<br>\n",
        "$C_{1n} = (lm)*C1;$<br>\n",
        "$C_{2n} = lm+1 + (255-lm-1)*C2;$<br>\n",
        "Następnie dwie części tablicy przekodowań należy połączyć.\n",
        "6. Ostatecznie należy wykonać operację LUT i wyświetlić wynik wyrównywania histogramu.\n",
        "Porównaj wynik operacji BBHE lub DSIHE z klasycznym HE."
      ]
    },
    {
      "cell_type": "code",
      "execution_count": null,
      "metadata": {
        "id": "c2Q0bFkqPM0v",
        "pycharm": {
          "name": "#%% Zadanie domowe - BBHE\n"
        }
      },
      "outputs": [],
      "source": [
        "import cv2\n",
        "import os\n",
        "import requests\n",
        "from matplotlib import pyplot as plt\n",
        "import numpy as np\n",
        "\n",
        "url = \"https://raw.githubusercontent.com/vision-agh/poc_sw/master/03_Histogram/\"\n",
        "\n",
        "fileName = 'jet.bmp'\n",
        "if not os.path.exists(fileName) :\n",
        "    r = requests.get(url + fileName, allow_redirects=True)\n",
        "    open(fileName, 'wb').write(r.content)\n",
        "\n",
        "jet = cv2.imread('jet.bmp', cv2.IMREAD_GRAYSCALE)\n",
        "\n",
        "print(jet)"
      ]
    },
    {
      "cell_type": "code",
      "execution_count": null,
      "metadata": {
        "id": "KPTV1fMpPM0y",
        "pycharm": {
          "name": "#%% Zadanie domowe - DSIHE\n"
        }
      },
      "outputs": [],
      "source": [
        "def show_image( image ):\n",
        "    plt.imshow(image)\n",
        "    plt.xticks([]), plt.yticks([])\n",
        "    plt.show()\n",
        "\n",
        "def generate_histogram(image, channels = [0]):\n",
        "    return image, cv2.calcHist(\n",
        "        [image],\n",
        "        channels,\n",
        "        None,\n",
        "        [256],\n",
        "        [0,256]\n",
        "    )\n",
        "\n",
        "def rescale(image):\n",
        "    min_image = min(image)\n",
        "    max_image = max(image)\n",
        "    return (image - min_image) / (max_image - min_image) * 255\n",
        "\n",
        "def show_all_histograms(images = [], channels = [0]):\n",
        "    prepared = []\n",
        "\n",
        "    for image in images:\n",
        "        prepared.append(generate_histogram(image, channels))\n",
        "\n",
        "    fig, axs = plt.subplots( len(prepared), 2 )\n",
        "    fig.set_size_inches(10, 5 * len(prepared))\n",
        "\n",
        "    if len(prepared) == 1:\n",
        "        image, hist = prepared[0]\n",
        "        axs[0].imshow(image, 'gray', vmin=0, vmax=256)\n",
        "        axs[1].plot(rescale(hist))\n",
        "        axs[1].plot(rescale(hist.cumsum()))\n",
        "        axs[1].grid()\n",
        "    else:\n",
        "        for i in range(len(prepared)):\n",
        "            image, hist = prepared[i]\n",
        "            axs[i,0].imshow(image, 'gray', vmin=0, vmax=256)\n",
        "            axs[i,1].plot(rescale(hist))\n",
        "            axs[i,1].plot(rescale(hist.cumsum()))\n",
        "            axs[i,1].grid()\n",
        "    \n",
        "    plt.show()\n",
        "\n",
        "def generate_histogram(image, channels = [ 0 ]):\n",
        "    return image, cv2.calcHist(\n",
        "        [image],\n",
        "        channels,\n",
        "        None,\n",
        "        [256],\n",
        "        [0,256]\n",
        "    )"
      ]
    },
    {
      "cell_type": "code",
      "execution_count": null,
      "metadata": {},
      "outputs": [],
      "source": [
        "show_all_histograms([jet])"
      ]
    },
    {
      "cell_type": "markdown",
      "metadata": {},
      "source": [
        "Z poprzedniego zadania:"
      ]
    },
    {
      "cell_type": "code",
      "execution_count": null,
      "metadata": {},
      "outputs": [],
      "source": [
        "def equalize_histogram(image):\n",
        "    _, hist = generate_histogram(image)\n",
        "    cumsum = hist.cumsum()\n",
        "    lut = cumsum * 255 / cumsum[-1]\n",
        "    lut = lut.astype('uint8')\n",
        "    return cv2.LUT(image, lut)"
      ]
    },
    {
      "cell_type": "code",
      "execution_count": null,
      "metadata": {},
      "outputs": [],
      "source": [
        "def rescale_to_range(array, min_v, max_v):\n",
        "    return array * (max_v - min_v - 1) + min_v\n",
        "\n",
        "def split_array(array, index):\n",
        "    return array[:index + 1], array[index + 1:]\n",
        "\n",
        "def normalize_histogram(histogram):\n",
        "    return histogram / np.max(histogram)\n",
        "\n",
        "def common_equalizer(image, hist, mid_point):\n",
        "    hist1, hist2 = split_array(hist, mid_point)\n",
        "\n",
        "    cumsum1 = hist1.cumsum()\n",
        "    cumsum2 = hist2.cumsum()\n",
        "\n",
        "    cumsum1 = normalize_histogram(cumsum1)\n",
        "    cumsum2 = normalize_histogram(cumsum2)\n",
        "\n",
        "    cumsum1 = rescale_to_range(cumsum1, 0, mid_point).astype(\"uint8\")\n",
        "    cumsum2 = rescale_to_range(cumsum2, mid_point + 1, 255).astype(\"uint8\")\n",
        "\n",
        "    lut = np.concatenate([cumsum1, cumsum2], axis=0)\n",
        "\n",
        "    return cv2.LUT(image, lut)\n",
        "\n",
        "def dsihe_equalizer(image):\n",
        "    _, hist = generate_histogram(image)\n",
        "    cumsum = rescale(hist.cumsum()) - 128\n",
        "    mid_point = np.argmax(cumsum > 0)\n",
        "\n",
        "    return common_equalizer(image, hist, mid_point)\n",
        "\n",
        "\n",
        "def bbhe_equalizer(image):\n",
        "    _, hist = generate_histogram(image)\n",
        "    mid_point = np.mean(image).astype('uint8')\n",
        "\n",
        "    return common_equalizer(image, hist, mid_point)\n",
        "\n",
        "print(\"Wszystkie wyniki\")\n",
        "show_all_histograms([\n",
        "    jet,\n",
        "    dsihe_equalizer(jet),\n",
        "    bbhe_equalizer(jet),\n",
        "    equalize_histogram(jet)\n",
        "])"
      ]
    },
    {
      "cell_type": "markdown",
      "metadata": {},
      "source": [
        "### BBHE vs HE\n",
        "Poniżej prezentują się kolejno: orginalny obraz, przetworzony przy pomocy BBHE oraz przy pomocy zwykłego HE. Obraz początkowy posiada najmniejszy kontrast. Obraz obrobiony używając BBHE otrzymał większy kontrast, przy małym ubytku na jasności.\n",
        "Ostatni z nich (wykorzystujący zwykłe HE) okazał się być najciemniejszy.\n",
        "\n",
        "Jak widzimy, nie zawsze jednostajna dystrybuanta daje najlepsze efekty"
      ]
    },
    {
      "cell_type": "code",
      "execution_count": null,
      "metadata": {},
      "outputs": [],
      "source": [
        "show_all_histograms([\n",
        "    jet,\n",
        "    bbhe_equalizer(jet),\n",
        "    equalize_histogram(jet)\n",
        "])"
      ]
    },
    {
      "cell_type": "markdown",
      "metadata": {},
      "source": [
        "### DSIHE vs HE\n",
        "Poniżej prezentują się kolejno: orginalny obraz, przetworzony przy pomocy DSIHE oraz przy pomocy zwykłego HE. Obraz początkowy posiada najmniejszy kontrast. Obraz obrobiony używając DSIHE otrzymał większy kontrast, przy małym ubytku na jasności. Dodatkowo, względem BBHE możemy zauważyć więcej ciemniejszych stref. Wynika to z wyboru punktu przedziału histogramu\n",
        "Ostatni z nich (wykorzystujący zwykłe HE) okazał się być najciemniejszy.\n",
        "\n",
        "Jak widzimy, nie zawsze jednostajna dystrybuanta daje najlepsze efekty"
      ]
    },
    {
      "cell_type": "code",
      "execution_count": null,
      "metadata": {},
      "outputs": [],
      "source": [
        "show_all_histograms([\n",
        "    jet,\n",
        "    dsihe_equalizer(jet),\n",
        "    equalize_histogram(jet)\n",
        "])"
      ]
    }
  ],
  "metadata": {
    "colab": {
      "collapsed_sections": [],
      "provenance": []
    },
    "kernelspec": {
      "display_name": "Python 3",
      "language": "python",
      "name": "python3"
    },
    "language_info": {
      "codemirror_mode": {
        "name": "ipython",
        "version": 3
      },
      "file_extension": ".py",
      "mimetype": "text/x-python",
      "name": "python",
      "nbconvert_exporter": "python",
      "pygments_lexer": "ipython3",
      "version": "3.8.10"
    }
  },
  "nbformat": 4,
  "nbformat_minor": 0
}
